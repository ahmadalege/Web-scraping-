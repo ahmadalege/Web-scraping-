{
 "cells": [
  {
   "cell_type": "code",
   "execution_count": 1,
   "id": "b6e85ca4",
   "metadata": {},
   "outputs": [],
   "source": [
    "from bs4 import BeautifulSoup\n",
    "import requests\n",
    "import pandas as pd"
   ]
  },
  {
   "cell_type": "code",
   "execution_count": 2,
   "id": "f3e073f1",
   "metadata": {},
   "outputs": [],
   "source": [
    "url = \"https://webscraper.io/test-sites/e-commerce/allinone/computers/laptops\"\n",
    "r = requests.get(url)\n"
   ]
  },
  {
   "cell_type": "code",
   "execution_count": 3,
   "id": "43972e85",
   "metadata": {},
   "outputs": [],
   "source": [
    "soup = BeautifulSoup(r.text, 'html')"
   ]
  },
  {
   "cell_type": "code",
   "execution_count": 4,
   "id": "dc17f178",
   "metadata": {},
   "outputs": [
    {
     "name": "stdout",
     "output_type": "stream",
     "text": [
      "<p class=\"float-end review-count\">2 reviews</p>\n"
     ]
    }
   ],
   "source": [
    "#prints review number 4\n",
    "reviews = soup.find_all(\"p\", class_=\"float-end review-count\")\n",
    "\n",
    "print(reviews[3])"
   ]
  },
  {
   "cell_type": "code",
   "execution_count": 5,
   "id": "16d63cb0",
   "metadata": {},
   "outputs": [
    {
     "name": "stdout",
     "output_type": "stream",
     "text": [
      "14 reviews\n",
      "8 reviews\n",
      "12 reviews\n",
      "2 reviews\n",
      "5 reviews\n",
      "6 reviews\n",
      "12 reviews\n",
      "2 reviews\n",
      "0 reviews\n",
      "9 reviews\n",
      "10 reviews\n",
      "9 reviews\n",
      "4 reviews\n",
      "3 reviews\n",
      "12 reviews\n",
      "10 reviews\n",
      "9 reviews\n",
      "14 reviews\n",
      "4 reviews\n",
      "2 reviews\n",
      "1 reviews\n",
      "1 reviews\n",
      "2 reviews\n",
      "6 reviews\n",
      "9 reviews\n",
      "2 reviews\n",
      "9 reviews\n",
      "7 reviews\n",
      "1 reviews\n",
      "5 reviews\n",
      "8 reviews\n",
      "6 reviews\n",
      "9 reviews\n",
      "4 reviews\n",
      "14 reviews\n",
      "2 reviews\n",
      "9 reviews\n",
      "5 reviews\n",
      "13 reviews\n",
      "0 reviews\n",
      "10 reviews\n",
      "2 reviews\n",
      "4 reviews\n",
      "9 reviews\n",
      "7 reviews\n",
      "2 reviews\n",
      "8 reviews\n",
      "12 reviews\n",
      "7 reviews\n",
      "0 reviews\n",
      "7 reviews\n",
      "11 reviews\n",
      "13 reviews\n",
      "14 reviews\n",
      "7 reviews\n",
      "1 reviews\n",
      "9 reviews\n",
      "4 reviews\n",
      "8 reviews\n",
      "4 reviews\n",
      "1 reviews\n",
      "0 reviews\n",
      "1 reviews\n",
      "4 reviews\n",
      "10 reviews\n",
      "14 reviews\n",
      "13 reviews\n",
      "7 reviews\n",
      "14 reviews\n",
      "5 reviews\n",
      "2 reviews\n",
      "10 reviews\n",
      "11 reviews\n",
      "11 reviews\n",
      "12 reviews\n",
      "7 reviews\n",
      "0 reviews\n",
      "6 reviews\n",
      "2 reviews\n",
      "2 reviews\n",
      "5 reviews\n",
      "14 reviews\n",
      "7 reviews\n",
      "12 reviews\n",
      "7 reviews\n",
      "13 reviews\n",
      "0 reviews\n",
      "9 reviews\n",
      "2 reviews\n",
      "10 reviews\n",
      "0 reviews\n",
      "14 reviews\n",
      "10 reviews\n",
      "7 reviews\n",
      "8 reviews\n",
      "13 reviews\n",
      "8 reviews\n",
      "4 reviews\n",
      "6 reviews\n",
      "1 reviews\n",
      "8 reviews\n",
      "12 reviews\n",
      "2 reviews\n",
      "0 reviews\n",
      "6 reviews\n",
      "11 reviews\n",
      "3 reviews\n",
      "11 reviews\n",
      "5 reviews\n",
      "12 reviews\n",
      "11 reviews\n",
      "4 reviews\n",
      "8 reviews\n",
      "10 reviews\n",
      "7 reviews\n",
      "8 reviews\n",
      "8 reviews\n"
     ]
    }
   ],
   "source": [
    "#prints all reviews \n",
    "for review in reviews:\n",
    "    print(review.text)"
   ]
  },
  {
   "cell_type": "code",
   "execution_count": 6,
   "id": "66cb8862",
   "metadata": {},
   "outputs": [
    {
     "name": "stdout",
     "output_type": "stream",
     "text": [
      "['Aspire E1-510']\n"
     ]
    }
   ],
   "source": [
    "#prints only specicfic strng \n",
    "data = soup.find_all(string = \"Aspire E1-510\")\n",
    "print(data)"
   ]
  },
  {
   "cell_type": "code",
   "execution_count": 7,
   "id": "cb424675",
   "metadata": {},
   "outputs": [],
   "source": [
    "# uses Regular expression and prints all strings in \"data\" with keyword Lenovo\n",
    "import re\n",
    "data = soup.find_all(string= re.compile(\"Lenovo\"))"
   ]
  },
  {
   "cell_type": "code",
   "execution_count": 8,
   "id": "32f9b974",
   "metadata": {},
   "outputs": [
    {
     "name": "stdout",
     "output_type": "stream",
     "text": [
      "['Lenovo V110-15...', 'Lenovo V110-15IAP, 15.6\" HD, Celeron N3350 1.1GHz, 4GB, 128GB SSD, Windows 10 Home', 'Lenovo V110-15...', 'Lenovo ThinkPa...', 'Lenovo ThinkPad E31-80, 13.3\" HD, Celeron 3855U 1.6GHz, 4GB, 128GB SSD, Windows 10 Home', 'Lenovo V110-15...', 'Lenovo V110-15ISK, 15.6\" HD, Core i3-6006U, 8GB, 128GB SSD, Windows 10 Home', 'Lenovo V110-15...', 'Lenovo V110-15ISK, 15.6\" HD, Core i3-6006U, 4GB, 128GB SSD, Windows 10 Pro', 'Lenovo V110-15...', 'Lenovo V110-15IKB, 15.6\" HD, Core i5-7200U, 4GB, 500GB, DOS', 'Lenovo V510 Bl...', 'Lenovo V510 Black, 14\" HD, Core i3-6006U, 4GB, 128GB SSD, Windows 10 Home', 'Lenovo V510 Bl...', 'Lenovo V510 Black, 15.6\" HD, Core i3-6006U, 4GB, 128GB SSD, Windows 10 Home', 'Lenovo V510 Bl...', 'Lenovo V510 Black, 15.6\" FHD, Core i3-7100U, 4GB, 128GB SSD, Windows 10 Pro', 'Lenovo ThinkPa...', 'Lenovo ThinkPad L570, 15.6\" FHD, Core i7-7500U, 8GB, 256GB SSD, Windows 10 Pro', 'Lenovo ThinkPa...', 'Lenovo ThinkPad L460, 14\" FHD IPS, Core i7-6600U, 8GB, 256GB SSD, Windows 10 Pro', 'Lenovo Legion...', 'Lenovo Legion Y520-15IKBM, Black, 15.6\" FHD IPS, Core i5-7300HQ, 8 GB, 128GB SSD + 2 TB HDD, NVIDIA GeForce GTX 1060 6 GB, FreeDOS + Windows 10 Home', 'Lenovo Legion...', 'Lenovo Legion Y520, 15.6\" FHD, Core i7-7700HQ, 8GB, 128 GB SSD + 1TB HDD, GTX 1050 4GB, Windows 10 Home', 'Lenovo Legion...', 'Lenovo Legion Y520-15IKBM, 15.6\" FHD IPS, Core i7-7700HQ, 8GB, 128GB SSD + 1TB, GeForce GTX 1060 Max-Q 6GB, DOS', 'Lenovo Yoga 72...', 'Lenovo Yoga 720 Grey, 15.6\" FHD IPS, Core i5-7300HQ, 8GB, 256GB SSD, GeForce GTX 1050 2GB, Windows 10 Home', 'Lenovo Yoga 91...', 'Lenovo Yoga 910 Grey, 13.9\" FHD Touch, Core i5-7200U, 8GB, 256GB SSD, Windows 10 Home', 'Lenovo IdeaPad...', 'Lenovo IdeaPad Miix 510 Platinum Silver, 12.2\" IPS Touch, Core i5-7200U, 8GB, 256GB SSD, 4G, Windows 10 Pro', 'Lenovo ThinkPa...', 'Lenovo ThinkPad T470, 14\" FHD IPS, Core i5-7200U, 8GB, 256GB SSD, Windows 10 Pro', 'Lenovo ThinkPa...', 'Lenovo ThinkPad Yoga 370 Black, 13.3\" FHD IPS Touch, Core i5-7200U, 8GB, 256GB SSD, 4G, Windows 10 Pro', 'Lenovo Legion...', 'Lenovo Legion Y720, 15.6\" FHD IPS, Core i7-7700HQ, 8GB, 128GB SSD + 2TB HDD, GeForce GTX 1060 6GB, DOS, RGB backlit keyboard']\n"
     ]
    }
   ],
   "source": [
    "print(data)"
   ]
  },
  {
   "cell_type": "code",
   "execution_count": 9,
   "id": "b9ac3b5f",
   "metadata": {},
   "outputs": [],
   "source": [
    "names = soup.find_all(\"a\", {\"class\":\"title\"})\n",
    "product_names = []\n",
    "\n",
    "for n in names:\n",
    "    name = n.text\n",
    "    product_names.append(name)\n",
    "    "
   ]
  },
  {
   "cell_type": "code",
   "execution_count": 10,
   "id": "e53efe1b",
   "metadata": {},
   "outputs": [],
   "source": [
    "prices = soup.find_all(\"h4\", {\"class\":\"float-end price card-title pull-right\"})\n",
    "product_prices = []\n",
    "\n",
    "for p in prices:\n",
    "    price = p.text\n",
    "    product_prices.append(price)"
   ]
  },
  {
   "cell_type": "code",
   "execution_count": 11,
   "id": "a1081d81",
   "metadata": {},
   "outputs": [],
   "source": [
    "descriptions = soup.find_all(\"p\", class_=\"description card-text\")\n",
    "product_descriptions = []\n",
    "\n",
    "for desc in descriptions:\n",
    "    description = desc.text\n",
    "    product_descriptions.append(description)"
   ]
  },
  {
   "cell_type": "code",
   "execution_count": 12,
   "id": "0aa48798",
   "metadata": {},
   "outputs": [],
   "source": [
    "reviews = soup.find_all(\"p\", class_=\"float-end review-count\")\n",
    "product_reviews = []\n",
    "\n",
    "for r in reviews:\n",
    "    review = r.text\n",
    "    product_reviews.append(review)"
   ]
  },
  {
   "cell_type": "code",
   "execution_count": 13,
   "id": "0c56f8e1",
   "metadata": {},
   "outputs": [],
   "source": [
    "rating_elements = soup.find_all('p', {'data-rating': True})\n",
    "product_ratings = []\n",
    "\n",
    "for rating in rating_elements:\n",
    "    ratings = rating['data-rating']\n",
    "    product_ratings.append(ratings)"
   ]
  },
  {
   "cell_type": "code",
   "execution_count": 14,
   "id": "5fe2c4d3",
   "metadata": {},
   "outputs": [],
   "source": [
    "df = pd.DataFrame({\"Name\": product_names, \"Price\": product_prices, \"Description\": product_descriptions, \"Stars\": product_ratings, \"Reviews\": product_reviews})"
   ]
  },
  {
   "cell_type": "code",
   "execution_count": 15,
   "id": "f0743e57",
   "metadata": {},
   "outputs": [],
   "source": [
    "df.to_csv(\"Allinone.csv\")"
   ]
  },
  {
   "cell_type": "code",
   "execution_count": null,
   "id": "7cedefb5",
   "metadata": {},
   "outputs": [],
   "source": []
  }
 ],
 "metadata": {
  "kernelspec": {
   "display_name": "Python 3 (ipykernel)",
   "language": "python",
   "name": "python3"
  },
  "language_info": {
   "codemirror_mode": {
    "name": "ipython",
    "version": 3
   },
   "file_extension": ".py",
   "mimetype": "text/x-python",
   "name": "python",
   "nbconvert_exporter": "python",
   "pygments_lexer": "ipython3",
   "version": "3.11.5"
  }
 },
 "nbformat": 4,
 "nbformat_minor": 5
}
