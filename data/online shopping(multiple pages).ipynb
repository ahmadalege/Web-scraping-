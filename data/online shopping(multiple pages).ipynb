{
 "cells": [
  {
   "cell_type": "code",
   "execution_count": 1,
   "id": "cb908b80",
   "metadata": {},
   "outputs": [],
   "source": [
    "from bs4 import BeautifulSoup\n",
    "import requests\n",
    "import pandas as pd\n",
    "\n",
    "name = []\n",
    "price = []\n",
    "description = []\n",
    "reviews = []"
   ]
  },
  {
   "cell_type": "code",
   "execution_count": 2,
   "id": "45e57f72",
   "metadata": {},
   "outputs": [],
   "source": [
    "#This loops through pages 1 to 5 in on the page and extracts the data\n",
    "for i in range(1,6):\n",
    "    url = 'https://www.flipkart.com/search?q=phones+under+50000&otracker=search&otracker1=search&marketplace=FLIPKART&as-show=on&as=off&page='+str(i)\n",
    "    page = requests.get(url)\n",
    "    soup = BeautifulSoup(page.text, 'html')\n",
    "\n",
    "#other items that are not in the product search have ratings so it is affecting the search. hence, we create a variable 'box' with the searched products only\n",
    "    box = soup.find(\"div\", class_=\"_1YokD2 _3Mn1Gg\")\n",
    "    \n",
    "    names = box.find_all('div', class_=\"_4rR01T\")\n",
    "\n",
    "    for i in names:\n",
    "        n = i.text\n",
    "        name.append(n)\n",
    "        \n",
    "    prices = box.find_all('div', class_=\"_30jeq3 _1_WHN1\")\n",
    "\n",
    "    for i in prices:\n",
    "        n = i.text\n",
    "        price.append(n)\n",
    "        \n",
    "    descriptions = box.find_all('ul', class_=\"_1xgFaf\")\n",
    "\n",
    "    for i in descriptions:\n",
    "        n = i.text\n",
    "        description.append(n)\n",
    "        \n",
    "    review = box.find_all('div', class_=\"_3LWZlK\")\n",
    "\n",
    "    for r in review:\n",
    "        n = r.text\n",
    "        reviews.append(n)"
   ]
  },
  {
   "cell_type": "code",
   "execution_count": 3,
   "id": "11a541a7",
   "metadata": {},
   "outputs": [
    {
     "data": {
      "text/plain": [
       "120"
      ]
     },
     "execution_count": 3,
     "metadata": {},
     "output_type": "execute_result"
    }
   ],
   "source": [
    "len(name)"
   ]
  },
  {
   "cell_type": "code",
   "execution_count": 4,
   "id": "88e07007",
   "metadata": {},
   "outputs": [
    {
     "data": {
      "text/plain": [
       "120"
      ]
     },
     "execution_count": 4,
     "metadata": {},
     "output_type": "execute_result"
    }
   ],
   "source": [
    "len(price)"
   ]
  },
  {
   "cell_type": "code",
   "execution_count": 5,
   "id": "4e46e551",
   "metadata": {},
   "outputs": [
    {
     "data": {
      "text/plain": [
       "120"
      ]
     },
     "execution_count": 5,
     "metadata": {},
     "output_type": "execute_result"
    }
   ],
   "source": [
    "len(description)"
   ]
  },
  {
   "cell_type": "code",
   "execution_count": 6,
   "id": "e924be1e",
   "metadata": {},
   "outputs": [
    {
     "data": {
      "text/plain": [
       "120"
      ]
     },
     "execution_count": 6,
     "metadata": {},
     "output_type": "execute_result"
    }
   ],
   "source": [
    "len(reviews)"
   ]
  },
  {
   "cell_type": "code",
   "execution_count": 7,
   "id": "8a463e58",
   "metadata": {},
   "outputs": [],
   "source": [
    "df = pd.DataFrame({'Product Name': name, 'Price': price, 'Description': description,'Reviews':reviews})"
   ]
  },
  {
   "cell_type": "code",
   "execution_count": 8,
   "id": "7db444cb",
   "metadata": {},
   "outputs": [],
   "source": [
    "df.to_csv('mobile10pages.csv')"
   ]
  },
  {
   "cell_type": "code",
   "execution_count": 9,
   "id": "cbf046c9",
   "metadata": {},
   "outputs": [
    {
     "data": {
      "text/html": [
       "<div>\n",
       "<style scoped>\n",
       "    .dataframe tbody tr th:only-of-type {\n",
       "        vertical-align: middle;\n",
       "    }\n",
       "\n",
       "    .dataframe tbody tr th {\n",
       "        vertical-align: top;\n",
       "    }\n",
       "\n",
       "    .dataframe thead th {\n",
       "        text-align: right;\n",
       "    }\n",
       "</style>\n",
       "<table border=\"1\" class=\"dataframe\">\n",
       "  <thead>\n",
       "    <tr style=\"text-align: right;\">\n",
       "      <th></th>\n",
       "      <th>Product Name</th>\n",
       "      <th>Price</th>\n",
       "      <th>Description</th>\n",
       "      <th>Reviews</th>\n",
       "    </tr>\n",
       "  </thead>\n",
       "  <tbody>\n",
       "    <tr>\n",
       "      <th>0</th>\n",
       "      <td>Nothing Phone (2) (Dark Grey, 512 GB)</td>\n",
       "      <td>₹49,999</td>\n",
       "      <td>12 GB RAM | 512 GB ROM17.02 cm (6.7 inch) Full...</td>\n",
       "      <td>4.4</td>\n",
       "    </tr>\n",
       "    <tr>\n",
       "      <th>1</th>\n",
       "      <td>APPLE iPhone 12 (Blue, 128 GB)</td>\n",
       "      <td>₹48,999</td>\n",
       "      <td>128 GB ROM15.49 cm (6.1 inch) Super Retina XDR...</td>\n",
       "      <td>4.6</td>\n",
       "    </tr>\n",
       "    <tr>\n",
       "      <th>2</th>\n",
       "      <td>Google Pixel 7 (Snow, 128 GB)</td>\n",
       "      <td>₹46,999</td>\n",
       "      <td>8 GB RAM | 128 GB ROM16.0 cm (6.3 inch) Full H...</td>\n",
       "      <td>4.3</td>\n",
       "    </tr>\n",
       "    <tr>\n",
       "      <th>3</th>\n",
       "      <td>Google Pixel 7 (Lemongrass, 128 GB)</td>\n",
       "      <td>₹46,999</td>\n",
       "      <td>8 GB RAM | 128 GB ROM16.0 cm (6.3 inch) Full H...</td>\n",
       "      <td>4.3</td>\n",
       "    </tr>\n",
       "    <tr>\n",
       "      <th>4</th>\n",
       "      <td>SAMSUNG Galaxy S22 5G (Phantom White, 128 GB)</td>\n",
       "      <td>₹49,999</td>\n",
       "      <td>8 GB RAM | 128 GB ROM15.49 cm (6.1 inch) Full ...</td>\n",
       "      <td>4.4</td>\n",
       "    </tr>\n",
       "    <tr>\n",
       "      <th>...</th>\n",
       "      <td>...</td>\n",
       "      <td>...</td>\n",
       "      <td>...</td>\n",
       "      <td>...</td>\n",
       "    </tr>\n",
       "    <tr>\n",
       "      <th>115</th>\n",
       "      <td>IQOO Neo 7 (Frost Blue, 256 GB)</td>\n",
       "      <td>₹32,495</td>\n",
       "      <td>12 GB RAM | 256 GB ROM17.22 cm (6.78 inch) Ful...</td>\n",
       "      <td>4.5</td>\n",
       "    </tr>\n",
       "    <tr>\n",
       "      <th>116</th>\n",
       "      <td>SAMSUNG Galaxy S21 FE 5G (Lavender, 128 GB)</td>\n",
       "      <td>₹39,999</td>\n",
       "      <td>8 GB RAM | 128 GB ROM16.26 cm (6.4 inch) Full ...</td>\n",
       "      <td>4.3</td>\n",
       "    </tr>\n",
       "    <tr>\n",
       "      <th>117</th>\n",
       "      <td>APPLE iPhone 11 (White, 128 GB)</td>\n",
       "      <td>₹48,900</td>\n",
       "      <td>128 GB ROM15.49 cm (6.1 inch) Liquid Retina HD...</td>\n",
       "      <td>4.6</td>\n",
       "    </tr>\n",
       "    <tr>\n",
       "      <th>118</th>\n",
       "      <td>IQOO 9T 5G (ALPHA, 128 GB)</td>\n",
       "      <td>₹45,799</td>\n",
       "      <td>8 GB RAM | 128 GB ROM17.22 cm (6.78 inch) Disp...</td>\n",
       "      <td>4.1</td>\n",
       "    </tr>\n",
       "    <tr>\n",
       "      <th>119</th>\n",
       "      <td>Mi 10T (Lunar Silver, 128 GB)</td>\n",
       "      <td>₹42,999</td>\n",
       "      <td>8 GB RAM | 128 GB ROM16.94 cm (6.67 inch) Full...</td>\n",
       "      <td>4.1</td>\n",
       "    </tr>\n",
       "  </tbody>\n",
       "</table>\n",
       "<p>120 rows × 4 columns</p>\n",
       "</div>"
      ],
      "text/plain": [
       "                                      Product Name    Price  \\\n",
       "0            Nothing Phone (2) (Dark Grey, 512 GB)  ₹49,999   \n",
       "1                   APPLE iPhone 12 (Blue, 128 GB)  ₹48,999   \n",
       "2                    Google Pixel 7 (Snow, 128 GB)  ₹46,999   \n",
       "3              Google Pixel 7 (Lemongrass, 128 GB)  ₹46,999   \n",
       "4    SAMSUNG Galaxy S22 5G (Phantom White, 128 GB)  ₹49,999   \n",
       "..                                             ...      ...   \n",
       "115                IQOO Neo 7 (Frost Blue, 256 GB)  ₹32,495   \n",
       "116    SAMSUNG Galaxy S21 FE 5G (Lavender, 128 GB)  ₹39,999   \n",
       "117                APPLE iPhone 11 (White, 128 GB)  ₹48,900   \n",
       "118                     IQOO 9T 5G (ALPHA, 128 GB)  ₹45,799   \n",
       "119                  Mi 10T (Lunar Silver, 128 GB)  ₹42,999   \n",
       "\n",
       "                                           Description Reviews  \n",
       "0    12 GB RAM | 512 GB ROM17.02 cm (6.7 inch) Full...     4.4  \n",
       "1    128 GB ROM15.49 cm (6.1 inch) Super Retina XDR...     4.6  \n",
       "2    8 GB RAM | 128 GB ROM16.0 cm (6.3 inch) Full H...     4.3  \n",
       "3    8 GB RAM | 128 GB ROM16.0 cm (6.3 inch) Full H...     4.3  \n",
       "4    8 GB RAM | 128 GB ROM15.49 cm (6.1 inch) Full ...     4.4  \n",
       "..                                                 ...     ...  \n",
       "115  12 GB RAM | 256 GB ROM17.22 cm (6.78 inch) Ful...     4.5  \n",
       "116  8 GB RAM | 128 GB ROM16.26 cm (6.4 inch) Full ...     4.3  \n",
       "117  128 GB ROM15.49 cm (6.1 inch) Liquid Retina HD...     4.6  \n",
       "118  8 GB RAM | 128 GB ROM17.22 cm (6.78 inch) Disp...     4.1  \n",
       "119  8 GB RAM | 128 GB ROM16.94 cm (6.67 inch) Full...     4.1  \n",
       "\n",
       "[120 rows x 4 columns]"
      ]
     },
     "execution_count": 9,
     "metadata": {},
     "output_type": "execute_result"
    }
   ],
   "source": [
    "df"
   ]
  },
  {
   "cell_type": "code",
   "execution_count": null,
   "id": "a952f795",
   "metadata": {},
   "outputs": [],
   "source": []
  }
 ],
 "metadata": {
  "kernelspec": {
   "display_name": "Python 3 (ipykernel)",
   "language": "python",
   "name": "python3"
  },
  "language_info": {
   "codemirror_mode": {
    "name": "ipython",
    "version": 3
   },
   "file_extension": ".py",
   "mimetype": "text/x-python",
   "name": "python",
   "nbconvert_exporter": "python",
   "pygments_lexer": "ipython3",
   "version": "3.11.5"
  }
 },
 "nbformat": 4,
 "nbformat_minor": 5
}
