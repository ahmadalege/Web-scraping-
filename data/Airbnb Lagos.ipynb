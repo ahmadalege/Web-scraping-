{
 "cells": [
  {
   "cell_type": "code",
   "execution_count": 1,
   "id": "245a7707",
   "metadata": {},
   "outputs": [],
   "source": [
    "from bs4 import BeautifulSoup\n",
    "import requests\n",
    "import pandas as pd"
   ]
  },
  {
   "cell_type": "code",
   "execution_count": 2,
   "id": "c8a48213",
   "metadata": {},
   "outputs": [],
   "source": [
    "Name = []\n",
    "Price = []\n",
    "Description = []\n",
    "Review = []\n"
   ]
  },
  {
   "cell_type": "code",
   "execution_count": 3,
   "id": "26ae5652",
   "metadata": {},
   "outputs": [],
   "source": [
    "url = 'https://www.airbnb.com/s/Lagos--Nigeria/homes?adults=1&place_id=ChIJwYCC5iqLOxARy9nDZ6OHntw&refinement_paths%5B%5D=%2Fhomes&tab_id=home_tab&query=Lagos%2C%20Nigeria&flexible_trip_lengths%5B%5D=one_week&monthly_start_date=2024-02-01&monthly_length=3&price_filter_input_type=0&price_filter_num_nights=5&channel=EXPLORE&search_type=unknown&federated_search_session_id=fcd4d9e3-2fbf-48ef-8d9d-1ecf66334bc7&pagination_search=true&cursor=eyJzZWN0aW9uX29mZnNldCI6MCwiaXRlbXNfb2Zmc2V0IjowLCJ2ZXJzaW9uIjoxfQ%3D%3D'\n",
    "page = requests.get(url)\n",
    "\n",
    "soup = BeautifulSoup(page.text, 'html')"
   ]
  },
  {
   "cell_type": "code",
   "execution_count": 4,
   "id": "36b67ae3",
   "metadata": {},
   "outputs": [],
   "source": [
    "for i in range(1,5):\n",
    "    next_page = soup.find('a', class_=\"l1ovpqvx atm_1y33qqm_1ggndnn_10saat9 atm_17zvjtw_zk357r_10saat9 atm_w3cb4q_il40rs_10saat9 c1ytbx3a atm_mk_h2mmj6 atm_9s_1txwivl atm_h_1h6ojuz atm_fc_1h6ojuz atm_bb_idpfg4 atm_26_1j28jx2 atm_3f_glywfm atm_7l_18pqv07 atm_gi_idpfg4 atm_l8_idpfg4 atm_uc_1dtz4sb atm_kd_glywfm atm_gz_xvenqj atm_uc_glywfm__p88qr9 atm_26_1nh1gcj_1rqz0hn_uv4tnr atm_tr_kv3y6q_csw3t1 atm_26_1nh1gcj_1ul2smo atm_3f_glywfm_jo46a5 atm_l8_idpfg4_jo46a5 atm_gi_idpfg4_jo46a5 atm_3f_glywfm_1icshfk atm_kd_glywfm_19774hq atm_70_glywfm_1w3cfyq atm_uc_x37zl0_9xuho3 atm_70_216vci_9xuho3 atm_26_1nh1gcj_9xuho3 atm_uc_glywfm_9xuho3_p88qr9 atm_70_glywfm_18zk5v0 atm_uc_x37zl0_fiqcvf atm_70_216vci_fiqcvf atm_26_1nh1gcj_fiqcvf atm_uc_glywfm_fiqcvf_p88qr9 atm_7l_161hw1_1o5j5ji atm_9j_13gfvf7_1o5j5ji atm_26_1j28jx2_154oz7f atm_92_1yyfdc7_vmtskl atm_9s_1ulexfb_vmtskl atm_mk_stnw88_vmtskl atm_tk_1ssbidh_vmtskl atm_fq_1ssbidh_vmtskl atm_tr_pryxvc_vmtskl atm_vy_1vi7ecw_vmtskl atm_e2_1vi7ecw_vmtskl atm_5j_1ssbidh_vmtskl atm_mk_h2mmj6_1ko0jae dir dir-ltr\").get('href')\n",
    "    np = 'https://www.airbnb.com/'+next_page\n",
    "    \n",
    "    url = np\n",
    "    page = requests.get(url)\n",
    "\n",
    "    soup = BeautifulSoup(page.text, 'html')\n",
    "\n",
    "    \n",
    "    \n",
    "    names = soup.find_all('div', class_=\"t1jojoys atm_g3_1kw7nm4 atm_ks_15vqwwr atm_sq_1l2sidv atm_9s_cj1kg8 atm_6w_1e54zos atm_fy_1vgr820 atm_7l_18pqv07 atm_cs_qo5vgd atm_w4_1eetg7c atm_ks_zryt35__1rgatj2 dir dir-ltr\")\n",
    "    for i in names:\n",
    "        n = i.text\n",
    "        Name.append(n)\n",
    "    \n",
    "    \n",
    "    prices = soup.find_all('span',class_=\"_tyxjp1\" )\n",
    "    for i in prices:\n",
    "        n = i.text\n",
    "        Price.append(n)\n",
    "    \n",
    "    \n",
    "    descriptions = soup.find_all('span', class_=\"t6mzqp7 atm_g3_1kw7nm4 atm_ks_15vqwwr atm_sq_1l2sidv atm_9s_cj1kg8 atm_6w_1e54zos atm_fy_kb7nvz atm_7l_12u4tyr atm_am_qk3dho atm_ks_zryt35__1rgatj2 dir dir-ltr\")\n",
    "    for i in descriptions:\n",
    "        n = i.text\n",
    "        Description.append(n)\n",
    "    \n",
    "    \n",
    "    reviews = soup.find_all('span', class_=\"r1dxllyb atm_7l_18pqv07 atm_cp_1ts48j8 dir dir-ltr\")\n",
    "    for i in reviews:\n",
    "        n = i.text\n",
    "        Review.append(n)"
   ]
  },
  {
   "cell_type": "code",
   "execution_count": 5,
   "id": "bb94042d",
   "metadata": {},
   "outputs": [
    {
     "data": {
      "text/plain": [
       "68"
      ]
     },
     "execution_count": 5,
     "metadata": {},
     "output_type": "execute_result"
    }
   ],
   "source": [
    "len(Review)"
   ]
  },
  {
   "cell_type": "code",
   "execution_count": 6,
   "id": "43b646a2",
   "metadata": {},
   "outputs": [
    {
     "data": {
      "text/plain": [
       "72"
      ]
     },
     "execution_count": 6,
     "metadata": {},
     "output_type": "execute_result"
    }
   ],
   "source": [
    "len(Name)"
   ]
  },
  {
   "cell_type": "code",
   "execution_count": 7,
   "id": "9bb5d1f5",
   "metadata": {},
   "outputs": [
    {
     "data": {
      "text/plain": [
       "61"
      ]
     },
     "execution_count": 7,
     "metadata": {},
     "output_type": "execute_result"
    }
   ],
   "source": [
    "len(Price)"
   ]
  },
  {
   "cell_type": "code",
   "execution_count": 8,
   "id": "0414c1c5",
   "metadata": {},
   "outputs": [
    {
     "data": {
      "text/plain": [
       "72"
      ]
     },
     "execution_count": 8,
     "metadata": {},
     "output_type": "execute_result"
    }
   ],
   "source": [
    "len(Description)"
   ]
  },
  {
   "cell_type": "code",
   "execution_count": null,
   "id": "67d8edb2",
   "metadata": {},
   "outputs": [],
   "source": [
    "#as we can see above, some of the price and reviews are missing from the site, hence we cant imput into a panda df"
   ]
  },
  {
   "cell_type": "code",
   "execution_count": 9,
   "id": "1bafc936",
   "metadata": {},
   "outputs": [],
   "source": [
    "df = pd.DataFrame({'Name': Name, 'Description': Description})"
   ]
  },
  {
   "cell_type": "code",
   "execution_count": 10,
   "id": "767689cc",
   "metadata": {},
   "outputs": [],
   "source": [
    "df.to_csv('AirbnbLagos.csv')"
   ]
  },
  {
   "cell_type": "code",
   "execution_count": null,
   "id": "7af4d3ab",
   "metadata": {},
   "outputs": [],
   "source": []
  }
 ],
 "metadata": {
  "kernelspec": {
   "display_name": "Python 3 (ipykernel)",
   "language": "python",
   "name": "python3"
  },
  "language_info": {
   "codemirror_mode": {
    "name": "ipython",
    "version": 3
   },
   "file_extension": ".py",
   "mimetype": "text/x-python",
   "name": "python",
   "nbconvert_exporter": "python",
   "pygments_lexer": "ipython3",
   "version": "3.11.5"
  }
 },
 "nbformat": 4,
 "nbformat_minor": 5
}
