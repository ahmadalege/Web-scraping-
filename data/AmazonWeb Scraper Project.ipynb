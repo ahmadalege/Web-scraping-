{
 "cells": [
  {
   "cell_type": "code",
   "execution_count": 1,
   "id": "f537e8c7",
   "metadata": {},
   "outputs": [],
   "source": [
    "#import libraries\n",
    "\n",
    "from bs4 import BeautifulSoup\n",
    "import requests\n",
    "import smtplib\n",
    "import time\n",
    "import datetime"
   ]
  },
  {
   "cell_type": "code",
   "execution_count": 2,
   "id": "fb14c850",
   "metadata": {},
   "outputs": [],
   "source": [
    "# connect to website\n",
    "\n",
    "URL = 'https://www.amazon.com/Fentgo-Professonal-Brushless-Thermo-Control-Hairdryer/dp/B0BVY6B7X7/ref=sr_1_1_sspa?crid=1I7TSQBKCB9SA&keywords=dyson%2Bhair%2Bdryer&qid=1704214014&sprefix=dyson%2B%2Caps%2C368&sr=8-1-spons&sp_csd=d2lkZ2V0TmFtZT1zcF9hdGY&th=1'\n",
    "\n",
    "headers = {\"User-Agent\": \"Mozilla/5.0 (Windows NT 10.0; Win64; x64) AppleWebKit/537.36 (KHTML, like Gecko) Chrome/120.0.0.0 Safari/537.36\", \"Accept-Encoding\":\"gzip, deflate\", \"Accept\":\"text/html,application/xhtml+xml,application/xml;q=0.9,*/*;q=0.8\", \"DNT\":\"1\",\"Connection\":\"close\", \"Upgrade-Insecure-Requests\":\"1\"}\n",
    "\n",
    "page = requests.get(URL, headers=headers)    \n",
    "\n",
    "soup1 = BeautifulSoup(page.content, \"html.parser\")\n",
    "\n",
    "soup2 = BeautifulSoup(soup1.prettify(), \"html.parser\")\n",
    "\n",
    "title = soup2.find(id=\"productTitle\").get_text()\n",
    "\n",
    "price = soup2.find(id=\"corePriceDisplay_desktop_feature_div\").get_text()\n",
    "\n",
    "reviews = soup2.find(id=\"acrCustomerReviewLink\").get_text()\n",
    "\n",
    "#this line is an inbuilt function\n",
    "today = datetime.date.today()\n",
    "\n"
   ]
  },
  {
   "cell_type": "code",
   "execution_count": 3,
   "id": "93360843",
   "metadata": {
    "scrolled": true
   },
   "outputs": [
    {
     "name": "stdout",
     "output_type": "stream",
     "text": [
      "Fentgo High Speed Ionic Hair Dryer with Diffuser\n",
      "99.99\n",
      "336\n"
     ]
    }
   ],
   "source": [
    "price = price.strip()[1:6]\n",
    "title = title.strip()[:48]\n",
    "reviews = reviews.strip()[:3]"
   ]
  },
  {
   "cell_type": "code",
   "execution_count": 4,
   "id": "f3ec4117",
   "metadata": {},
   "outputs": [],
   "source": [
    "#writing and saving file as csv\n",
    "\n",
    "import csv \n",
    "\n",
    "header = ['Title', 'Price', 'Reviews', 'Date']\n",
    "data = [title, price, reviews, today]\n",
    " \n",
    "with open('Amazonweb.csv', 'w', newline='', encoding='UTF8') as f:\n",
    "    writer = csv.writer(f)\n",
    "    writer.writerow(header)\n",
    "    writer.writerow(data)"
   ]
  },
  {
   "cell_type": "code",
   "execution_count": 5,
   "id": "d7cac49a",
   "metadata": {},
   "outputs": [],
   "source": [
    "#to append\n",
    "\n",
    "with open('Amazonweb.csv', 'a+', newline='', encoding='UTF8') as f:\n",
    "    writer = csv.writer(f)\n",
    "    writer.writerow(data)"
   ]
  },
  {
   "cell_type": "code",
   "execution_count": 6,
   "id": "3e92bf84",
   "metadata": {},
   "outputs": [],
   "source": [
    "def check_price():\n",
    "    URL = 'https://www.amazon.com/Fentgo-Professonal-Brushless-Thermo-Control-Hairdryer/dp/B0BVY6B7X7/ref=sr_1_1_sspa?crid=1I7TSQBKCB9SA&keywords=dyson%2Bhair%2Bdryer&qid=1704214014&sprefix=dyson%2B%2Caps%2C368&sr=8-1-spons&sp_csd=d2lkZ2V0TmFtZT1zcF9hdGY&th=1'\n",
    "\n",
    "    headers = {\"User-Agent\": \"Mozilla/5.0 (Windows NT 10.0; Win64; x64) AppleWebKit/537.36 (KHTML, like Gecko) Chrome/120.0.0.0 Safari/537.36\", \"Accept-Encoding\":\"gzip, deflate\", \"Accept\":\"text/html,application/xhtml+xml,application/xml;q=0.9,*/*;q=0.8\", \"DNT\":\"1\",\"Connection\":\"close\", \"Upgrade-Insecure-Requests\":\"1\"}\n",
    "\n",
    "    page = requests.get(URL, headers=headers)    \n",
    "\n",
    "    soup1 = BeautifulSoup(page.content, \"html.parser\")\n",
    "\n",
    "    soup2 = BeautifulSoup(soup1.prettify(), \"html.parser\")\n",
    "\n",
    "    title = soup2.find(id=\"productTitle\").get_text()\n",
    "\n",
    "    price = soup2.find(id=\"corePriceDisplay_desktop_feature_div\").get_text()\n",
    "\n",
    "    reviews = soup2.find(id=\"acrCustomerReviewLink\").get_text()\n",
    "    \n",
    "    today = datetime.date.today()\n",
    "    \n",
    "    price = price.strip()[1:6]\n",
    "    title = title.strip()[:48]\n",
    "    reviews = reviews.strip()[:3]\n",
    "    \n",
    "    import csv \n",
    "\n",
    "    header = ['Title', 'Price', 'Reviews', 'Date']\n",
    "    data = [title, price, reviews, today]\n",
    " \n",
    "\n",
    "\n",
    "    with open('Amazonweb.csv', 'a+', newline='', encoding='UTF8') as f:\n",
    "        writer = csv.writer(f)\n",
    "        writer.writerow(data)\n",
    "        \n",
    "    "
   ]
  },
  {
   "cell_type": "code",
   "execution_count": null,
   "id": "e7f1deab",
   "metadata": {},
   "outputs": [],
   "source": [
    "#automating (checks price every 24 hours and appends new price to the file)\n",
    "\n",
    "#while(True):\n",
    "   # check_price()\n",
    "   # time.sleep(86400)"
   ]
  },
  {
   "cell_type": "code",
   "execution_count": null,
   "id": "a0db30a0",
   "metadata": {},
   "outputs": [],
   "source": []
  }
 ],
 "metadata": {
  "kernelspec": {
   "display_name": "Python 3 (ipykernel)",
   "language": "python",
   "name": "python3"
  },
  "language_info": {
   "codemirror_mode": {
    "name": "ipython",
    "version": 3
   },
   "file_extension": ".py",
   "mimetype": "text/x-python",
   "name": "python",
   "nbconvert_exporter": "python",
   "pygments_lexer": "ipython3",
   "version": "3.11.5"
  }
 },
 "nbformat": 4,
 "nbformat_minor": 5
}
