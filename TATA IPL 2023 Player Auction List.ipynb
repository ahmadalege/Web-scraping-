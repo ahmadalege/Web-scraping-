{
 "cells": [
  {
   "cell_type": "code",
   "execution_count": 1,
   "id": "2703ff8b",
   "metadata": {},
   "outputs": [],
   "source": [
    "from bs4 import BeautifulSoup\n",
    "import requests\n",
    "import pandas as pd"
   ]
  },
  {
   "cell_type": "code",
   "execution_count": 2,
   "id": "a1b4c6a5",
   "metadata": {},
   "outputs": [],
   "source": [
    "url = \"https://www.iplt20.com/news/3852/tata-ipl-2023-player-auction-list-announced\"\n",
    "page = requests.get(url)"
   ]
  },
  {
   "cell_type": "code",
   "execution_count": 3,
   "id": "6d42b2c6",
   "metadata": {},
   "outputs": [],
   "source": [
    "soup = BeautifulSoup(page.text, 'html')"
   ]
  },
  {
   "cell_type": "code",
   "execution_count": 4,
   "id": "c0e3fbef",
   "metadata": {},
   "outputs": [],
   "source": [
    "table = soup.find('table')\n",
    "#table"
   ]
  },
  {
   "cell_type": "code",
   "execution_count": 5,
   "id": "25b8d0ac",
   "metadata": {},
   "outputs": [],
   "source": [
    "titles = table.find_all('p')[1:8]\n",
    "#titles"
   ]
  },
  {
   "cell_type": "code",
   "execution_count": 6,
   "id": "e503e7fa",
   "metadata": {},
   "outputs": [],
   "source": [
    "header = []\n",
    "for t in titles:\n",
    "    title = t.text\n",
    "    header.append(title)"
   ]
  },
  {
   "cell_type": "code",
   "execution_count": 7,
   "id": "b9656cc0",
   "metadata": {},
   "outputs": [],
   "source": [
    "df = pd.DataFrame(columns = header)"
   ]
  },
  {
   "cell_type": "code",
   "execution_count": 8,
   "id": "2690417d",
   "metadata": {},
   "outputs": [
    {
     "data": {
      "text/html": [
       "<div>\n",
       "<style scoped>\n",
       "    .dataframe tbody tr th:only-of-type {\n",
       "        vertical-align: middle;\n",
       "    }\n",
       "\n",
       "    .dataframe tbody tr th {\n",
       "        vertical-align: top;\n",
       "    }\n",
       "\n",
       "    .dataframe thead th {\n",
       "        text-align: right;\n",
       "    }\n",
       "</style>\n",
       "<table border=\"1\" class=\"dataframe\">\n",
       "  <thead>\n",
       "    <tr style=\"text-align: right;\">\n",
       "      <th></th>\n",
       "      <th>Franchise</th>\n",
       "      <th>No of Players</th>\n",
       "      <th>No of Overseas Players</th>\n",
       "      <th>Total  money spent (Rs.)</th>\n",
       "      <th>Salary cap available (Rs.)</th>\n",
       "      <th>Available Slots</th>\n",
       "      <th>Overseas Slots</th>\n",
       "    </tr>\n",
       "  </thead>\n",
       "  <tbody>\n",
       "  </tbody>\n",
       "</table>\n",
       "</div>"
      ],
      "text/plain": [
       "Empty DataFrame\n",
       "Columns: [Franchise, No of Players, No of Overseas Players, Total  money spent (Rs.), Salary cap available (Rs.), Available Slots, Overseas Slots]\n",
       "Index: []"
      ]
     },
     "execution_count": 8,
     "metadata": {},
     "output_type": "execute_result"
    }
   ],
   "source": [
    "df"
   ]
  },
  {
   "cell_type": "code",
   "execution_count": 9,
   "id": "f73a7e17",
   "metadata": {},
   "outputs": [],
   "source": [
    "rows = table.find_all('tr')[2:]\n",
    "#print"
   ]
  },
  {
   "cell_type": "code",
   "execution_count": 10,
   "id": "62b1d6fa",
   "metadata": {},
   "outputs": [],
   "source": [
    "row = []\n",
    "\n",
    "for r in rows:\n",
    "    data = r.find_all('td')\n",
    "    row = [d.text.strip() for d in data]\n",
    "    \n",
    "    l = len(df)\n",
    "    df.loc[l] = row\n"
   ]
  },
  {
   "cell_type": "code",
   "execution_count": 11,
   "id": "b80a36f9",
   "metadata": {},
   "outputs": [
    {
     "data": {
      "text/html": [
       "<div>\n",
       "<style scoped>\n",
       "    .dataframe tbody tr th:only-of-type {\n",
       "        vertical-align: middle;\n",
       "    }\n",
       "\n",
       "    .dataframe tbody tr th {\n",
       "        vertical-align: top;\n",
       "    }\n",
       "\n",
       "    .dataframe thead th {\n",
       "        text-align: right;\n",
       "    }\n",
       "</style>\n",
       "<table border=\"1\" class=\"dataframe\">\n",
       "  <thead>\n",
       "    <tr style=\"text-align: right;\">\n",
       "      <th></th>\n",
       "      <th>Franchise</th>\n",
       "      <th>No of Players</th>\n",
       "      <th>No of Overseas Players</th>\n",
       "      <th>Total  money spent (Rs.)</th>\n",
       "      <th>Salary cap available (Rs.)</th>\n",
       "      <th>Available Slots</th>\n",
       "      <th>Overseas Slots</th>\n",
       "    </tr>\n",
       "  </thead>\n",
       "  <tbody>\n",
       "    <tr>\n",
       "      <th>0</th>\n",
       "      <td>CSK</td>\n",
       "      <td>18</td>\n",
       "      <td>6</td>\n",
       "      <td>74.55</td>\n",
       "      <td>20.45</td>\n",
       "      <td>7</td>\n",
       "      <td>2</td>\n",
       "    </tr>\n",
       "    <tr>\n",
       "      <th>1</th>\n",
       "      <td>DC</td>\n",
       "      <td>20</td>\n",
       "      <td>6</td>\n",
       "      <td>75.55</td>\n",
       "      <td>19.45</td>\n",
       "      <td>5</td>\n",
       "      <td>2</td>\n",
       "    </tr>\n",
       "    <tr>\n",
       "      <th>2</th>\n",
       "      <td>GT</td>\n",
       "      <td>18</td>\n",
       "      <td>5</td>\n",
       "      <td>75.75</td>\n",
       "      <td>19.25</td>\n",
       "      <td>7</td>\n",
       "      <td>3</td>\n",
       "    </tr>\n",
       "    <tr>\n",
       "      <th>3</th>\n",
       "      <td>KKR</td>\n",
       "      <td>14</td>\n",
       "      <td>5</td>\n",
       "      <td>87.95</td>\n",
       "      <td>7.05</td>\n",
       "      <td>11</td>\n",
       "      <td>3</td>\n",
       "    </tr>\n",
       "    <tr>\n",
       "      <th>4</th>\n",
       "      <td>LSG</td>\n",
       "      <td>15</td>\n",
       "      <td>4</td>\n",
       "      <td>71.65</td>\n",
       "      <td>23.35</td>\n",
       "      <td>10</td>\n",
       "      <td>4</td>\n",
       "    </tr>\n",
       "    <tr>\n",
       "      <th>5</th>\n",
       "      <td>MI</td>\n",
       "      <td>16</td>\n",
       "      <td>5</td>\n",
       "      <td>74.45</td>\n",
       "      <td>20.55</td>\n",
       "      <td>9</td>\n",
       "      <td>3</td>\n",
       "    </tr>\n",
       "    <tr>\n",
       "      <th>6</th>\n",
       "      <td>PBKS</td>\n",
       "      <td>16</td>\n",
       "      <td>5</td>\n",
       "      <td>62.8</td>\n",
       "      <td>32.2</td>\n",
       "      <td>9</td>\n",
       "      <td>3</td>\n",
       "    </tr>\n",
       "    <tr>\n",
       "      <th>7</th>\n",
       "      <td>RCB</td>\n",
       "      <td>18</td>\n",
       "      <td>6</td>\n",
       "      <td>86.25</td>\n",
       "      <td>8.75</td>\n",
       "      <td>7</td>\n",
       "      <td>2</td>\n",
       "    </tr>\n",
       "    <tr>\n",
       "      <th>8</th>\n",
       "      <td>RR</td>\n",
       "      <td>16</td>\n",
       "      <td>4</td>\n",
       "      <td>81.8</td>\n",
       "      <td>13.2</td>\n",
       "      <td>9</td>\n",
       "      <td>4</td>\n",
       "    </tr>\n",
       "    <tr>\n",
       "      <th>9</th>\n",
       "      <td>SRH</td>\n",
       "      <td>12</td>\n",
       "      <td>4</td>\n",
       "      <td>52.75</td>\n",
       "      <td>42.25</td>\n",
       "      <td>13</td>\n",
       "      <td>4</td>\n",
       "    </tr>\n",
       "    <tr>\n",
       "      <th>10</th>\n",
       "      <td>Total</td>\n",
       "      <td>163</td>\n",
       "      <td>50</td>\n",
       "      <td>743.5</td>\n",
       "      <td>206.5</td>\n",
       "      <td>87</td>\n",
       "      <td>30</td>\n",
       "    </tr>\n",
       "  </tbody>\n",
       "</table>\n",
       "</div>"
      ],
      "text/plain": [
       "   Franchise No of Players No of Overseas Players Total  money spent (Rs.)  \\\n",
       "0        CSK            18                      6                    74.55   \n",
       "1         DC            20                      6                    75.55   \n",
       "2         GT            18                      5                    75.75   \n",
       "3        KKR            14                      5                    87.95   \n",
       "4        LSG            15                      4                    71.65   \n",
       "5         MI            16                      5                    74.45   \n",
       "6       PBKS            16                      5                     62.8   \n",
       "7        RCB            18                      6                    86.25   \n",
       "8         RR            16                      4                     81.8   \n",
       "9        SRH            12                      4                    52.75   \n",
       "10     Total           163                     50                    743.5   \n",
       "\n",
       "   Salary cap available (Rs.) Available Slots Overseas Slots  \n",
       "0                       20.45               7              2  \n",
       "1                       19.45               5              2  \n",
       "2                       19.25               7              3  \n",
       "3                        7.05              11              3  \n",
       "4                       23.35              10              4  \n",
       "5                       20.55               9              3  \n",
       "6                        32.2               9              3  \n",
       "7                        8.75               7              2  \n",
       "8                        13.2               9              4  \n",
       "9                       42.25              13              4  \n",
       "10                      206.5              87             30  "
      ]
     },
     "execution_count": 11,
     "metadata": {},
     "output_type": "execute_result"
    }
   ],
   "source": [
    "df"
   ]
  },
  {
   "cell_type": "code",
   "execution_count": 12,
   "id": "82332fd0",
   "metadata": {},
   "outputs": [],
   "source": [
    "df.to_csv('TATA_IPL_23.csv')"
   ]
  },
  {
   "cell_type": "code",
   "execution_count": null,
   "id": "84d66267",
   "metadata": {},
   "outputs": [],
   "source": []
  }
 ],
 "metadata": {
  "kernelspec": {
   "display_name": "Python 3 (ipykernel)",
   "language": "python",
   "name": "python3"
  },
  "language_info": {
   "codemirror_mode": {
    "name": "ipython",
    "version": 3
   },
   "file_extension": ".py",
   "mimetype": "text/x-python",
   "name": "python",
   "nbconvert_exporter": "python",
   "pygments_lexer": "ipython3",
   "version": "3.11.5"
  }
 },
 "nbformat": 4,
 "nbformat_minor": 5
}
